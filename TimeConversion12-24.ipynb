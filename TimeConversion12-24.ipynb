{
 "cells": [
  {
   "cell_type": "markdown",
   "metadata": {},
   "source": [
    "Converte horas do formato AM~PM para 24H"
   ]
  },
  {
   "cell_type": "code",
   "execution_count": 1,
   "metadata": {},
   "outputs": [],
   "source": [
    "def timeConversion(s):\n",
    "    if('AM' in s):\n",
    "        s = s[0:(len(s)-2)]\n",
    "        if(s[0:2] == '12'):\n",
    "            s = '00' + s[2:len(s)]\n",
    "        \n",
    "    if('PM' in s):\n",
    "        s = s[0:(len(s)-2)]\n",
    "        if(s[0:2] != '12'):\n",
    "            hour = int(s[0:2])\n",
    "            hour += 12\n",
    "            s = str(hour) + s[2:len(s)]\n",
    "            \n",
    "    return s;"
   ]
  },
  {
   "cell_type": "code",
   "execution_count": 2,
   "metadata": {},
   "outputs": [
    {
     "name": "stdout",
     "output_type": "stream",
     "text": [
      "00:40:22\n",
      "\n"
     ]
    }
   ],
   "source": [
    "s = '12:40:22AM'\n",
    "\n",
    "result = timeConversion(s)\n",
    "\n",
    "print(result + '\\n')\n"
   ]
  },
  {
   "cell_type": "code",
   "execution_count": null,
   "metadata": {},
   "outputs": [],
   "source": []
  }
 ],
 "metadata": {
  "kernelspec": {
   "display_name": "Python 3",
   "language": "python",
   "name": "python3"
  },
  "language_info": {
   "codemirror_mode": {
    "name": "ipython",
    "version": 3
   },
   "file_extension": ".py",
   "mimetype": "text/x-python",
   "name": "python",
   "nbconvert_exporter": "python",
   "pygments_lexer": "ipython3",
   "version": "3.7.1"
  }
 },
 "nbformat": 4,
 "nbformat_minor": 2
}
