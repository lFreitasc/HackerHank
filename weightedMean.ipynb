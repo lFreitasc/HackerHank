{
 "cells": [
  {
   "cell_type": "markdown",
   "metadata": {},
   "source": [
    "Calculo de nota de acordo com nota e peso"
   ]
  },
  {
   "cell_type": "code",
   "execution_count": 8,
   "metadata": {},
   "outputs": [],
   "source": [
    "def weightedMean(numbers, weights):\n",
    "    result = 0\n",
    "    for ea in range(len(numbers)):\n",
    "        result += numbers[ea] * weights[ea]\n",
    "        print(numbers[ea]*weights[ea])\n",
    "\n",
    "    result /= sum(weights)\n",
    "    return result"
   ]
  },
  {
   "cell_type": "code",
   "execution_count": 10,
   "metadata": {},
   "outputs": [
    {
     "name": "stdout",
     "output_type": "stream",
     "text": [
      "10\n",
      "80\n",
      "90\n",
      "200\n",
      "100\n",
      "60\n",
      "280\n",
      "240\n",
      "450\n",
      "200\n",
      "31.1\n"
     ]
    }
   ],
   "source": [
    "numbers = [10, 40, 30, 50, 20, 10, 40, 30, 50, 20]\n",
    "weights = [1, 2, 3, 4, 5, 6, 7, 8, 9, 10]\n",
    "\n",
    "result = weightedMean(numbers, weights)\n",
    "result = round(result, 1)\n",
    "print(result)"
   ]
  },
  {
   "cell_type": "code",
   "execution_count": null,
   "metadata": {},
   "outputs": [],
   "source": []
  }
 ],
 "metadata": {
  "kernelspec": {
   "display_name": "Python 3",
   "language": "python",
   "name": "python3"
  },
  "language_info": {
   "codemirror_mode": {
    "name": "ipython",
    "version": 3
   },
   "file_extension": ".py",
   "mimetype": "text/x-python",
   "name": "python",
   "nbconvert_exporter": "python",
   "pygments_lexer": "ipython3",
   "version": "3.7.1"
  }
 },
 "nbformat": 4,
 "nbformat_minor": 2
}
