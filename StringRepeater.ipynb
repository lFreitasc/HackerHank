{
 "cells": [
  {
   "cell_type": "markdown",
   "metadata": {},
   "source": [
    "Recebe uma string e um numero que repete essa string, conta a quantidade de A's, exemplo: 'aba', 2 == 'ab' e 'aba', 5 == 'abaab'"
   ]
  },
  {
   "cell_type": "code",
   "execution_count": 8,
   "metadata": {},
   "outputs": [],
   "source": [
    "def repeatedString(s, n):\n",
    "    size = len(s)\n",
    "    count = 0\n",
    "    for ea in s:\n",
    "        if(ea == 'a'):\n",
    "            count += 1\n",
    "    \n",
    "    div = int(n/size)\n",
    "    print(div)\n",
    "    rest = int(n - (div * size))\n",
    "    print(rest)\n",
    "    if(div != 0):\n",
    "        count *= div\n",
    "\n",
    "    rest = s[0:rest]\n",
    "    for ea in rest:\n",
    "        if(ea == 'a'):\n",
    "            count += 1\n",
    "\n",
    "    return count"
   ]
  },
  {
   "cell_type": "code",
   "execution_count": 9,
   "metadata": {},
   "outputs": [
    {
     "name": "stdout",
     "output_type": "stream",
     "text": [
      "3\n",
      "1\n"
     ]
    },
    {
     "data": {
      "text/plain": [
       "7"
      ]
     },
     "execution_count": 9,
     "metadata": {},
     "output_type": "execute_result"
    }
   ],
   "source": [
    "result = repeatedString('aba', 10)\n",
    "result"
   ]
  },
  {
   "cell_type": "code",
   "execution_count": null,
   "metadata": {},
   "outputs": [],
   "source": []
  }
 ],
 "metadata": {
  "kernelspec": {
   "display_name": "Python 3",
   "language": "python",
   "name": "python3"
  },
  "language_info": {
   "codemirror_mode": {
    "name": "ipython",
    "version": 3
   },
   "file_extension": ".py",
   "mimetype": "text/x-python",
   "name": "python",
   "nbconvert_exporter": "python",
   "pygments_lexer": "ipython3",
   "version": "3.7.1"
  }
 },
 "nbformat": 4,
 "nbformat_minor": 2
}
