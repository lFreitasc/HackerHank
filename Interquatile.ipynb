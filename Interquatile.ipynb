{
 "cells": [
  {
   "cell_type": "code",
   "execution_count": 1,
   "metadata": {},
   "outputs": [],
   "source": [
    "import os\n",
    "import sys\n",
    "import statistics"
   ]
  },
  {
   "cell_type": "code",
   "execution_count": 14,
   "metadata": {},
   "outputs": [],
   "source": [
    "def interquarile(numbers, frequency):\n",
    "    \n",
    "    s = []\n",
    "    for index in range(len(frequency)):\n",
    "        for ea in range(frequency[index]):\n",
    "            s.append(numbers[index])\n",
    "    \n",
    "    med = statistics.median(s)\n",
    "    s1 = []\n",
    "    s2 = []\n",
    "\n",
    "    for ea in s:\n",
    "        if(ea > med):\n",
    "            s2.append(ea)\n",
    "        else:\n",
    "            s1.append(ea)\n",
    "\n",
    "    while(len(s2) != len(s1)):\n",
    "        if(len(s2) - len(s1) > 2):\n",
    "            s1.append(min(s2))\n",
    "            s2.remove(min(s2))\n",
    "        elif(len(s1) - len(s2) > 2):\n",
    "            s2.append(max(s1))\n",
    "            s1.remove(max(s1))\n",
    "        else:\n",
    "            if(len(s1) > len(s2)):\n",
    "                s1.remove(max(s1))\n",
    "            elif(len(s2) > len(s1)):\n",
    "                s2.remove(min(s2))\n",
    "\n",
    "    medBotton = statistics.median(s1)\n",
    "    medUpper = statistics.median(s2)\n",
    "\n",
    "    return float(medUpper - medBotton)"
   ]
  },
  {
   "cell_type": "code",
   "execution_count": 15,
   "metadata": {},
   "outputs": [
    {
     "name": "stdout",
     "output_type": "stream",
     "text": [
      "5.0\n"
     ]
    }
   ],
   "source": [
    "numbers = [10, 40, 30, 50, 20, 10, 40, 30, 50, 20, 1, 2, 3, 4, 5, 6, 7, 8, 9, 10]\n",
    "frequency = [1, 2, 3, 4, 5, 6, 7, 8, 9, 10, 10, 40, 30, 50, 20, 10, 40, 30, 50, 20]\n",
    "result = interquarile(numbers, frequency)\n",
    "print(result)"
   ]
  },
  {
   "cell_type": "code",
   "execution_count": null,
   "metadata": {},
   "outputs": [],
   "source": []
  }
 ],
 "metadata": {
  "kernelspec": {
   "display_name": "Python 3",
   "language": "python",
   "name": "python3"
  },
  "language_info": {
   "codemirror_mode": {
    "name": "ipython",
    "version": 3
   },
   "file_extension": ".py",
   "mimetype": "text/x-python",
   "name": "python",
   "nbconvert_exporter": "python",
   "pygments_lexer": "ipython3",
   "version": "3.7.1"
  }
 },
 "nbformat": 4,
 "nbformat_minor": 2
}
