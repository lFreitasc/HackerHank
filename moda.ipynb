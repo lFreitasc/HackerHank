{
 "cells": [
  {
   "cell_type": "code",
   "execution_count": 24,
   "metadata": {},
   "outputs": [],
   "source": [
    "from statistics import mode"
   ]
  },
  {
   "cell_type": "code",
   "execution_count": 25,
   "metadata": {},
   "outputs": [],
   "source": [
    "array = [1,2,3,4,7,7,7,6,6,6]"
   ]
  },
  {
   "cell_type": "code",
   "execution_count": 26,
   "metadata": {},
   "outputs": [
    {
     "name": "stdout",
     "output_type": "stream",
     "text": [
      "[1, 2, 3, 4, 6, 6, 6, 7, 7, 7]\n",
      "6\n",
      "3\n"
     ]
    }
   ],
   "source": [
    "array.sort()\n",
    "print(array)\n",
    "try:\n",
    "    print(mode(array))\n",
    "except:\n",
    "    numHandler = []\n",
    "    count = []\n",
    "    for ea in array:\n",
    "        if(ea not in numHandler):\n",
    "            numHandler.append(ea)\n",
    "            count.append(1)\n",
    "        else:\n",
    "            index = numHandler.index(ea)\n",
    "            count[index] += 1\n",
    "    print(numHandler[count.index(max(count))])\n",
    "    print(max(count))\n",
    "                "
   ]
  },
  {
   "cell_type": "markdown",
   "metadata": {},
   "source": [
    "Usar a função mode do statics apresenta erro ao não possuir repetições ou possuir dois valores (maior repetição), no caso acima, o retorno será o menor valor com maior repetição"
   ]
  },
  {
   "cell_type": "code",
   "execution_count": null,
   "metadata": {},
   "outputs": [],
   "source": []
  }
 ],
 "metadata": {
  "kernelspec": {
   "display_name": "Python 3",
   "language": "python",
   "name": "python3"
  },
  "language_info": {
   "codemirror_mode": {
    "name": "ipython",
    "version": 3
   },
   "file_extension": ".py",
   "mimetype": "text/x-python",
   "name": "python",
   "nbconvert_exporter": "python",
   "pygments_lexer": "ipython3",
   "version": "3.7.1"
  }
 },
 "nbformat": 4,
 "nbformat_minor": 2
}
