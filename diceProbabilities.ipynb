{
 "cells": [
  {
   "cell_type": "code",
   "execution_count": 1,
   "metadata": {},
   "outputs": [],
   "source": [
    "# import numpy as np"
   ]
  },
  {
   "cell_type": "code",
   "execution_count": 11,
   "metadata": {},
   "outputs": [],
   "source": [
    "def diceProbabilities(numSides = 6, numDice = 2, targetNumber = 7):\n",
    "#     diceArray = np.arange(1,numSides + 1, 1)\n",
    "    sumArray = []\n",
    "    if(numThrows < 2):\n",
    "        return '1/6'\n",
    "    else:\n",
    "        for ea in range(numSides):\n",
    "            sumNum = ea\n",
    "            for loop in range(numDice):\n",
    "                for ea2 in range(numSides):\n",
    "                    \n",
    "                \n",
    "                \n",
    "        chances = 0\n",
    "        total = numSides ** numThrows\n",
    "        return str(chances) + '/' + str(total)"
   ]
  },
  {
   "cell_type": "code",
   "execution_count": 12,
   "metadata": {},
   "outputs": [
    {
     "name": "stdout",
     "output_type": "stream",
     "text": [
      "0/36\n"
     ]
    }
   ],
   "source": [
    "result = diceProbabilities()\n",
    "print(result)"
   ]
  },
  {
   "cell_type": "code",
   "execution_count": null,
   "metadata": {},
   "outputs": [],
   "source": []
  }
 ],
 "metadata": {
  "kernelspec": {
   "display_name": "Python 3",
   "language": "python",
   "name": "python3"
  },
  "language_info": {
   "codemirror_mode": {
    "name": "ipython",
    "version": 3
   },
   "file_extension": ".py",
   "mimetype": "text/x-python",
   "name": "python",
   "nbconvert_exporter": "python",
   "pygments_lexer": "ipython3",
   "version": "3.7.1"
  }
 },
 "nbformat": 4,
 "nbformat_minor": 2
}
