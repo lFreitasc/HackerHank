{
 "cells": [
  {
   "cell_type": "code",
   "execution_count": 2,
   "metadata": {},
   "outputs": [],
   "source": [
    "input = [[1,1,1,0,0,0],[0,1,0,0,0,0],[1,1,1,0,0,0],[0,0,2,4,4,0],[0,0,0,2,0,0],[0,0,1,2,4,0]]\n"
   ]
  },
  {
   "cell_type": "code",
   "execution_count": 5,
   "metadata": {},
   "outputs": [
    {
     "data": {
      "text/plain": [
       "[[1, 1, 1, 0, 0, 0],\n",
       " [0, 1, 0, 0, 0, 0],\n",
       " [1, 1, 1, 0, 0, 0],\n",
       " [0, 0, 2, 4, 4, 0],\n",
       " [0, 0, 0, 2, 0, 0],\n",
       " [0, 0, 1, 2, 4, 0]]"
      ]
     },
     "execution_count": 5,
     "metadata": {},
     "output_type": "execute_result"
    }
   ],
   "source": [
    "input"
   ]
  },
  {
   "cell_type": "code",
   "execution_count": 21,
   "metadata": {},
   "outputs": [],
   "source": [
    "def hourglassSum(input):\n",
    "    input_size = len(input)\n",
    "    max_line = max_column = int(input_size / 2) + 1\n",
    "    \n",
    "    high_sum = None\n",
    "    \n",
    "    \n",
    "    for index_line in range(max_line):\n",
    "        for index_column in range(max_column):\n",
    "#             Primeiras 3 linhas\n",
    "            current_sum = input[index_line][index_column]\n",
    "            current_sum += input[index_line][index_column + 1]\n",
    "            current_sum += input[index_line][index_column + 2]\n",
    "#             Linha abaixo, coluna do meio\n",
    "            current_sum += input[index_line + 1][index_column + 1]\n",
    "#             Ultimas 3 linhas\n",
    "            current_sum += input[index_line + 2][index_column]\n",
    "            current_sum += input[index_line + 2][index_column + 1]\n",
    "            current_sum += input[index_line + 2][index_column + 2]\n",
    "            \n",
    "            if(high_sum != None and high_sum < current_sum):\n",
    "                high_sum = current_sum\n",
    "            elif(high_sum == None):\n",
    "                high_sum = current_sum\n",
    "    return high_sum\n",
    "    "
   ]
  },
  {
   "cell_type": "code",
   "execution_count": 22,
   "metadata": {},
   "outputs": [
    {
     "data": {
      "text/plain": [
       "19"
      ]
     },
     "execution_count": 22,
     "metadata": {},
     "output_type": "execute_result"
    }
   ],
   "source": [
    "high_sum = hourglassSum(input)\n",
    "high_sum"
   ]
  },
  {
   "cell_type": "code",
   "execution_count": null,
   "metadata": {},
   "outputs": [],
   "source": []
  }
 ],
 "metadata": {
  "kernelspec": {
   "display_name": "Python 3",
   "language": "python",
   "name": "python3"
  },
  "language_info": {
   "codemirror_mode": {
    "name": "ipython",
    "version": 3
   },
   "file_extension": ".py",
   "mimetype": "text/x-python",
   "name": "python",
   "nbconvert_exporter": "python",
   "pygments_lexer": "ipython3",
   "version": "3.7.1"
  }
 },
 "nbformat": 4,
 "nbformat_minor": 2
}
